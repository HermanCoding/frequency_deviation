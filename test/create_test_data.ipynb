{
 "cells": [
  {
   "cell_type": "markdown",
   "source": [
    "# For creating files with all 50Hz"
   ],
   "metadata": {
    "collapsed": false
   },
   "id": "dc8eba783d100694"
  },
  {
   "cell_type": "code",
   "execution_count": null,
   "outputs": [],
   "source": [
    "import pandas as pd\n",
    "file_path_for_create = r'..\\test\\mock-week.feather'"
   ],
   "metadata": {
    "collapsed": false
   },
   "id": "8f41146feae5a3b8"
  },
  {
   "cell_type": "code",
   "execution_count": null,
   "outputs": [],
   "source": [
    "start_date = '2019-12-31 23:00:00'\n",
    "end_date = '2020-01-01 00:00:00'\n",
    "\n",
    "date_index = pd.date_range(start=start_date, end=end_date, freq='S')\n",
    "df = pd.DataFrame(index=date_index, columns=['Value'])\n",
    "df['Value'] = 50.000\n",
    "print(df)"
   ],
   "metadata": {
    "collapsed": false
   },
   "id": "cc41912d414a95e4"
  },
  {
   "cell_type": "code",
   "execution_count": null,
   "outputs": [],
   "source": [
    "df.to_feather(file_path_for_create)"
   ],
   "metadata": {
    "collapsed": false
   },
   "id": "8b841b6c0d9ce7cb"
  },
  {
   "cell_type": "markdown",
   "source": [
    "# For creating deviations"
   ],
   "metadata": {
    "collapsed": false
   },
   "id": "54742676ef660976"
  },
  {
   "cell_type": "markdown",
   "source": [
    "### Set deviation values on set times"
   ],
   "metadata": {
    "collapsed": false
   },
   "id": "3302508c2854b802"
  },
  {
   "cell_type": "code",
   "execution_count": null,
   "outputs": [],
   "source": [
    "import pandas as pd\n",
    "\n",
    "filepath = r'..\\test\\mock-year-1.feather'\n",
    "df = pd.read_feather(filepath)\n",
    "df.info()"
   ],
   "metadata": {
    "collapsed": false
   },
   "id": "9f2f4eb6753271ab"
  },
  {
   "cell_type": "code",
   "execution_count": null,
   "outputs": [],
   "source": [
    "start_date = '2019-12-31 23:00:00'\n",
    "end_date = '2020-01-01 00:00:00'\n",
    "\n",
    "start_date = pd.to_datetime(start_date)\n",
    "end_date = pd.to_datetime(end_date)\n",
    "\n",
    "new_value = 50.0\n",
    "\n",
    "df.loc[start_date:end_date, 'Value'] = new_value\n",
    "\n",
    "mask_changed = (df.index >= start_date - pd.Timedelta(seconds=2)) & (df.index <= end_date + pd.Timedelta(seconds=2))\n",
    "\n",
    "print(df.loc[df.index[mask_changed]])"
   ],
   "metadata": {
    "collapsed": false
   },
   "id": "7afe7add084b10f2"
  },
  {
   "cell_type": "code",
   "execution_count": null,
   "outputs": [],
   "source": [
    "pd.options.display.float_format = '{:.1f}'.format # Tar bort vetenskaplig notation\n",
    "print(df.info(),end='\\n''\\n''--------------------''\\n''\\n')\n",
    "print(df.value_counts(),end='\\n''\\n''--------------------''\\n''\\n')\n",
    "print(df.describe(),end='\\n''\\n''--------------------''\\n''\\n')"
   ],
   "metadata": {
    "collapsed": false
   },
   "id": "4e33422cd8d59ed4"
  },
  {
   "cell_type": "code",
   "execution_count": null,
   "outputs": [],
   "source": [
    "df.to_feather(filepath)"
   ],
   "metadata": {
    "collapsed": false
   },
   "id": "4e343d54057041f7"
  },
  {
   "cell_type": "markdown",
   "source": [
    "### Set an amount of deviation values on random times in dataset"
   ],
   "metadata": {
    "collapsed": false
   },
   "id": "d21fbfa3d742dc34"
  },
  {
   "cell_type": "code",
   "execution_count": null,
   "outputs": [],
   "source": [
    "import pandas as pd\n",
    "import random\n",
    "\n",
    "filepath = r'..\\test\\mock-year.feather'\n",
    "df = pd.read_feather(filepath)\n",
    "df.info()\n"
   ],
   "metadata": {
    "collapsed": false
   },
   "id": "548ec65599f75682"
  },
  {
   "cell_type": "code",
   "execution_count": null,
   "outputs": [],
   "source": [
    "num_deviations = 200000\n",
    "min_deviation_value = 49.0\n",
    "max_deviation_value = 51.0\n",
    "\n",
    "deviation_values = [round(random.uniform(min_deviation_value, max_deviation_value), 1) for _ in range(10)]\n",
    "\n",
    "for _ in range(num_deviations):\n",
    "    random_start = random.choice(df.index)\n",
    "    random_duration = pd.Timedelta(seconds=random.randint(1, 10))\n",
    "    random_end = random_start + random_duration\n",
    "    random_value = random.choice(deviation_values)\n",
    "\n",
    "    df.loc[random_start:random_end, 'Value'] = random_value\n",
    "    # print(f\"Deviation at {random_start} with value {random_value}\")"
   ],
   "metadata": {
    "collapsed": false
   },
   "id": "dd7f08079beeba94"
  },
  {
   "cell_type": "code",
   "execution_count": null,
   "outputs": [],
   "source": [
    "pd.options.display.float_format = '{:.1f}'.format # Tar bort vetenskaplig notation\n",
    "print(df.info(),end='\\n''\\n''--------------------''\\n''\\n')\n",
    "print(df.value_counts(),end='\\n''\\n''--------------------''\\n''\\n')\n",
    "print(df.describe(),end='\\n''\\n''--------------------''\\n''\\n')"
   ],
   "metadata": {
    "collapsed": false
   },
   "id": "6c4581feb538d8fe"
  },
  {
   "cell_type": "code",
   "execution_count": null,
   "outputs": [],
   "source": [
    "df.to_feather(filepath)"
   ],
   "metadata": {
    "collapsed": false
   },
   "id": "4d4375631bc9da9"
  },
  {
   "cell_type": "markdown",
   "source": [
    "# Add/remove data to compensate for timezone differences and put the data in timezone: Europe/Stockholm"
   ],
   "metadata": {
    "collapsed": false
   },
   "id": "485aa0d35024368c"
  },
  {
   "cell_type": "code",
   "execution_count": 12,
   "outputs": [
    {
     "name": "stdout",
     "output_type": "stream",
     "text": [
      "<class 'pandas.core.frame.DataFrame'>\n",
      "DatetimeIndex: 100 entries, 2022-01-04 00:00:00 to 2022-01-04 00:01:39\n",
      "Data columns (total 1 columns):\n",
      " #   Column  Non-Null Count  Dtype  \n",
      "---  ------  --------------  -----  \n",
      " 0   Value   100 non-null    float64\n",
      "dtypes: float64(1)\n",
      "memory usage: 1.6 KB\n"
     ]
    }
   ],
   "source": [
    "import pandas as pd\n",
    "\n",
    "filepath = r'..\\test\\mock-1_39min.feather'\n",
    "df = pd.read_feather(filepath)\n",
    "df.info()"
   ],
   "metadata": {
    "collapsed": false,
    "ExecuteTime": {
     "end_time": "2023-12-07T11:30:40.301704300Z",
     "start_time": "2023-12-07T11:30:40.232888200Z"
    }
   },
   "id": "c6a33b956cc89516"
  },
  {
   "cell_type": "code",
   "execution_count": 13,
   "outputs": [],
   "source": [
    "df.index = df.index.tz_localize('UTC', ambiguous='infer', nonexistent='shift_forward')\n",
    "df.index = df.index.tz_convert('Europe/Stockholm')"
   ],
   "metadata": {
    "collapsed": false,
    "ExecuteTime": {
     "end_time": "2023-12-07T11:30:42.616627500Z",
     "start_time": "2023-12-07T11:30:42.584672800Z"
    }
   },
   "id": "3d2702fff4e194c2"
  },
  {
   "cell_type": "code",
   "execution_count": 14,
   "outputs": [
    {
     "name": "stdout",
     "output_type": "stream",
     "text": [
      "1.0 \n",
      "\n",
      "\n",
      " 1.0 \n",
      "\n",
      "\n",
      "                            Value\n",
      "2022-01-04 01:00:00+01:00   50.0\n",
      "2022-01-04 01:00:01+01:00   50.0\n",
      "2022-01-04 01:00:02+01:00   50.0\n",
      "2022-01-04 01:00:03+01:00   50.0\n",
      "2022-01-04 01:00:04+01:00   50.0\n",
      "...                          ...\n",
      "2022-01-04 01:01:35+01:00   49.7\n",
      "2022-01-04 01:01:36+01:00   49.7\n",
      "2022-01-04 01:01:37+01:00   49.7\n",
      "2022-01-04 01:01:38+01:00   50.0\n",
      "2022-01-04 01:01:39+01:00   50.0\n",
      "\n",
      "[100 rows x 1 columns]\n"
     ]
    }
   ],
   "source": [
    "hours_off_start = (df.index.min().utcoffset() / pd.Timedelta(hours=1))\n",
    "hours_off_end = (df.index.max().utcoffset() / pd.Timedelta(hours=1))\n",
    "\n",
    "print(hours_off_start, '\\n\\n\\n', hours_off_end, '\\n\\n\\n', df)"
   ],
   "metadata": {
    "collapsed": false,
    "ExecuteTime": {
     "end_time": "2023-12-07T11:30:43.943039700Z",
     "start_time": "2023-12-07T11:30:43.893173800Z"
    }
   },
   "id": "f566241168d9a058"
  },
  {
   "cell_type": "code",
   "execution_count": 15,
   "outputs": [
    {
     "name": "stdout",
     "output_type": "stream",
     "text": [
      "                           Value\n",
      "2022-01-04 00:00:00+01:00   50.0\n",
      "2022-01-04 00:00:01+01:00   50.0 \n",
      "\n",
      "\n",
      "                            Value\n",
      "2022-01-04 00:01:38+01:00   50.0\n",
      "2022-01-04 00:01:39+01:00   50.0\n"
     ]
    }
   ],
   "source": [
    "first_hour = df.index.min() - pd.Timedelta(hours=hours_off_start)\n",
    "start_time_add = pd.to_datetime(first_hour)\n",
    "\n",
    "# Deleting the last hour and moving its values to the first hour\n",
    "last_hour = df.index.max()\n",
    "\n",
    "if hours_off_end == 1:\n",
    "    hours_off_start_offset = last_hour.replace(minute=0, second=0, microsecond=0)\n",
    "    hours_off_end_offset = last_hour.replace(minute=59, second=59, microsecond=59)\n",
    "elif hours_off_end == 2:\n",
    "    hours_off_start_offset = last_hour.replace(minute=0, second=0, microsecond=0) - pd.Timedelta(hours=1)\n",
    "    hours_off_end_offset = last_hour.replace(hour=1, minute=59, second=59, microsecond=59)\n",
    "else:\n",
    "    hours_off_start_offset = None\n",
    "    hours_off_end_offset = None\n",
    "\n",
    "start_time_delete = pd.to_datetime(hours_off_start_offset)\n",
    "end_time_delete = pd.to_datetime(hours_off_end_offset)\n",
    "last_hour_values = df.loc[start_time_delete:end_time_delete, 'Value'].values\n",
    "df = df.loc[~((df.index >= start_time_delete) & (df.index <= end_time_delete))]\n",
    "\n",
    "# Adding the first hour and assigning values\n",
    "temp_df = pd.DataFrame({'Value':last_hour_values}, index=pd.date_range(start_time_add, periods=len(last_hour_values), freq='S'))\n",
    "df = pd.concat([temp_df, df])\n",
    "\n",
    "print(df.head(2),'\\n\\n\\n', df.tail(2))"
   ],
   "metadata": {
    "collapsed": false,
    "ExecuteTime": {
     "end_time": "2023-12-07T11:30:45.830993500Z",
     "start_time": "2023-12-07T11:30:45.782122400Z"
    }
   },
   "id": "17da42d53e0e21e6"
  },
  {
   "cell_type": "code",
   "execution_count": 16,
   "outputs": [],
   "source": [
    "df.to_feather(filepath)"
   ],
   "metadata": {
    "collapsed": false,
    "ExecuteTime": {
     "end_time": "2023-12-07T11:31:10.363989300Z",
     "start_time": "2023-12-07T11:31:10.331038500Z"
    }
   },
   "id": "a2ec21a1e4296961"
  },
  {
   "cell_type": "code",
   "execution_count": 6,
   "outputs": [
    {
     "data": {
      "text/plain": "                           Value\n2022-09-01 00:00:00+02:00   50.0\n2022-09-01 00:00:01+02:00   50.0\n2022-09-01 00:00:02+02:00   50.0\n2022-09-01 00:00:03+02:00   50.0\n2022-09-01 00:00:04+02:00   50.0\n...                          ...\n2022-09-03 01:59:55+02:00   49.2\n2022-09-03 01:59:56+02:00   50.0\n2022-09-03 01:59:57+02:00   50.0\n2022-09-03 01:59:58+02:00   50.0\n2022-09-03 01:59:59+02:00   50.0\n\n[180000 rows x 1 columns]",
      "text/html": "<div>\n<style scoped>\n    .dataframe tbody tr th:only-of-type {\n        vertical-align: middle;\n    }\n\n    .dataframe tbody tr th {\n        vertical-align: top;\n    }\n\n    .dataframe thead th {\n        text-align: right;\n    }\n</style>\n<table border=\"1\" class=\"dataframe\">\n  <thead>\n    <tr style=\"text-align: right;\">\n      <th></th>\n      <th>Value</th>\n    </tr>\n  </thead>\n  <tbody>\n    <tr>\n      <th>2022-09-01 00:00:00+02:00</th>\n      <td>50.0</td>\n    </tr>\n    <tr>\n      <th>2022-09-01 00:00:01+02:00</th>\n      <td>50.0</td>\n    </tr>\n    <tr>\n      <th>2022-09-01 00:00:02+02:00</th>\n      <td>50.0</td>\n    </tr>\n    <tr>\n      <th>2022-09-01 00:00:03+02:00</th>\n      <td>50.0</td>\n    </tr>\n    <tr>\n      <th>2022-09-01 00:00:04+02:00</th>\n      <td>50.0</td>\n    </tr>\n    <tr>\n      <th>...</th>\n      <td>...</td>\n    </tr>\n    <tr>\n      <th>2022-09-03 01:59:55+02:00</th>\n      <td>49.2</td>\n    </tr>\n    <tr>\n      <th>2022-09-03 01:59:56+02:00</th>\n      <td>50.0</td>\n    </tr>\n    <tr>\n      <th>2022-09-03 01:59:57+02:00</th>\n      <td>50.0</td>\n    </tr>\n    <tr>\n      <th>2022-09-03 01:59:58+02:00</th>\n      <td>50.0</td>\n    </tr>\n    <tr>\n      <th>2022-09-03 01:59:59+02:00</th>\n      <td>50.0</td>\n    </tr>\n  </tbody>\n</table>\n<p>180000 rows × 1 columns</p>\n</div>"
     },
     "execution_count": 6,
     "metadata": {},
     "output_type": "execute_result"
    }
   ],
   "source": [
    "# df[(df.index >= end_time_delete - pd.Timedelta(days=31,hours=1,seconds=5)) & (df.index <= end_time_delete - pd.Timedelta(days=28))]"
   ],
   "metadata": {
    "collapsed": false,
    "ExecuteTime": {
     "end_time": "2023-12-07T11:28:46.304066100Z",
     "start_time": "2023-12-07T11:28:46.207375300Z"
    }
   },
   "id": "9500ca3da7ce3e16"
  },
  {
   "cell_type": "code",
   "execution_count": null,
   "outputs": [],
   "source": [],
   "metadata": {
    "collapsed": false
   },
   "id": "c2059b3dfaac8e0"
  }
 ],
 "metadata": {
  "kernelspec": {
   "display_name": "Python 3",
   "language": "python",
   "name": "python3"
  },
  "language_info": {
   "codemirror_mode": {
    "name": "ipython",
    "version": 2
   },
   "file_extension": ".py",
   "mimetype": "text/x-python",
   "name": "python",
   "nbconvert_exporter": "python",
   "pygments_lexer": "ipython2",
   "version": "2.7.6"
  }
 },
 "nbformat": 4,
 "nbformat_minor": 5
}
