{
 "cells": [
  {
   "cell_type": "markdown",
   "source": [],
   "metadata": {
    "collapsed": false
   },
   "id": "e2f19da7706634b0"
  },
  {
   "cell_type": "code",
   "execution_count": 2,
   "outputs": [],
   "source": [
    "import pandas as pd\n",
    "import merge_clean_data"
   ],
   "metadata": {
    "collapsed": false,
    "ExecuteTime": {
     "end_time": "2023-11-10T08:36:02.646907700Z",
     "start_time": "2023-11-10T08:36:01.053693100Z"
    }
   },
   "id": "3caf2372b73d5536"
  },
  {
   "cell_type": "code",
   "execution_count": 3,
   "outputs": [
    {
     "name": "stdout",
     "output_type": "stream",
     "text": [
      "Loading file 2021-Q1_seconds.csv...\n",
      "Loading file 2021-Q2_seconds.csv...\n",
      "Loading file 2021-Q3_seconds.csv...\n",
      "Loading file 2021-Q4_seconds.csv...\n",
      "Loading file 2022-Q1_seconds.csv...\n",
      "Loading file 2022-Q2_seconds.csv...\n",
      "Loading file 2022-Q3_seconds.csv...\n",
      "Loading file 2022-Q4_seconds.csv...\n",
      "Loading file 2023-Q1_seconds.csv...\n",
      "Loading file 2023-Q2_seconds.csv...\n",
      "Loading file 2023-Q3_seconds.csv...\n"
     ]
    }
   ],
   "source": [
    "merge_clean_data.merge_data(files_dir = r'./processed_files/')\n",
    "data = merge_clean_data.data"
   ],
   "metadata": {
    "collapsed": false,
    "ExecuteTime": {
     "end_time": "2023-11-10T08:37:02.710367600Z",
     "start_time": "2023-11-10T08:36:02.651894200Z"
    }
   },
   "id": "80121d512d2264df"
  },
  {
   "cell_type": "code",
   "execution_count": 4,
   "outputs": [
    {
     "name": "stdout",
     "output_type": "stream",
     "text": [
      "<class 'pandas.core.frame.DataFrame'>\n",
      "RangeIndex: 85708811 entries, 0 to 85708810\n",
      "Data columns (total 2 columns):\n",
      " #   Column  Dtype         \n",
      "---  ------  -----         \n",
      " 0   Time    datetime64[ns]\n",
      " 1   Value   float64       \n",
      "dtypes: datetime64[ns](1), float64(1)\n",
      "memory usage: 1.3 GB\n"
     ]
    }
   ],
   "source": [
    "df = pd.concat(data, ignore_index=True, join='inner')\n",
    "df['Time'] = pd.to_datetime(df['Time'])\n",
    "df.info()"
   ],
   "metadata": {
    "collapsed": false,
    "ExecuteTime": {
     "end_time": "2023-11-10T08:38:25.783467900Z",
     "start_time": "2023-11-10T08:37:03.792413500Z"
    }
   },
   "id": "8dd2f7735362b293"
  },
  {
   "cell_type": "code",
   "execution_count": 5,
   "outputs": [
    {
     "data": {
      "text/plain": "                        Time  Value\n10782    2021-01-01 02:59:42    0.0\n10783    2021-01-01 02:59:43    0.0\n10784    2021-01-01 02:59:44    0.0\n10785    2021-01-01 02:59:45    0.0\n10786    2021-01-01 02:59:46    0.0\n...                      ...    ...\n85708806 2023-09-29 23:59:56    0.0\n85708807 2023-09-29 23:59:57    0.0\n85708808 2023-09-29 23:59:58    0.0\n85708809 2023-09-29 23:59:59    0.0\n85708810 2023-09-30 00:00:00    0.0\n\n[2797396 rows x 2 columns]",
      "text/html": "<div>\n<style scoped>\n    .dataframe tbody tr th:only-of-type {\n        vertical-align: middle;\n    }\n\n    .dataframe tbody tr th {\n        vertical-align: top;\n    }\n\n    .dataframe thead th {\n        text-align: right;\n    }\n</style>\n<table border=\"1\" class=\"dataframe\">\n  <thead>\n    <tr style=\"text-align: right;\">\n      <th></th>\n      <th>Time</th>\n      <th>Value</th>\n    </tr>\n  </thead>\n  <tbody>\n    <tr>\n      <th>10782</th>\n      <td>2021-01-01 02:59:42</td>\n      <td>0.0</td>\n    </tr>\n    <tr>\n      <th>10783</th>\n      <td>2021-01-01 02:59:43</td>\n      <td>0.0</td>\n    </tr>\n    <tr>\n      <th>10784</th>\n      <td>2021-01-01 02:59:44</td>\n      <td>0.0</td>\n    </tr>\n    <tr>\n      <th>10785</th>\n      <td>2021-01-01 02:59:45</td>\n      <td>0.0</td>\n    </tr>\n    <tr>\n      <th>10786</th>\n      <td>2021-01-01 02:59:46</td>\n      <td>0.0</td>\n    </tr>\n    <tr>\n      <th>...</th>\n      <td>...</td>\n      <td>...</td>\n    </tr>\n    <tr>\n      <th>85708806</th>\n      <td>2023-09-29 23:59:56</td>\n      <td>0.0</td>\n    </tr>\n    <tr>\n      <th>85708807</th>\n      <td>2023-09-29 23:59:57</td>\n      <td>0.0</td>\n    </tr>\n    <tr>\n      <th>85708808</th>\n      <td>2023-09-29 23:59:58</td>\n      <td>0.0</td>\n    </tr>\n    <tr>\n      <th>85708809</th>\n      <td>2023-09-29 23:59:59</td>\n      <td>0.0</td>\n    </tr>\n    <tr>\n      <th>85708810</th>\n      <td>2023-09-30 00:00:00</td>\n      <td>0.0</td>\n    </tr>\n  </tbody>\n</table>\n<p>2797396 rows × 2 columns</p>\n</div>"
     },
     "execution_count": 5,
     "metadata": {},
     "output_type": "execute_result"
    }
   ],
   "source": [
    "df.loc[~df['Value'].between(49.5,50.5)]"
   ],
   "metadata": {
    "collapsed": false,
    "ExecuteTime": {
     "end_time": "2023-11-10T08:38:26.362850900Z",
     "start_time": "2023-11-10T08:38:25.760530700Z"
    }
   },
   "id": "1aac4ce324476df4"
  },
  {
   "cell_type": "code",
   "execution_count": 6,
   "outputs": [
    {
     "name": "stdout",
     "output_type": "stream",
     "text": [
      "The number of rows with 'Value' over 50.1 is: 888070\n"
     ]
    }
   ],
   "source": [
    "df_over = df[df['Value'] > 50.1]\n",
    "count_over_50 = len(df_over)\n",
    "print(\"The number of rows with 'Value' over 50.1 is:\", count_over_50)"
   ],
   "metadata": {
    "collapsed": false,
    "ExecuteTime": {
     "end_time": "2023-11-10T08:38:26.668031700Z",
     "start_time": "2023-11-10T08:38:26.344895Z"
    }
   },
   "id": "6a6817d840df3b63"
  },
  {
   "cell_type": "code",
   "execution_count": 7,
   "outputs": [
    {
     "name": "stdout",
     "output_type": "stream",
     "text": [
      "The number of rows with 'Value' under 49.9 is: 3509115\n"
     ]
    }
   ],
   "source": [
    "df_under = df[df['Value'] < 49.9]\n",
    "count_under_50 = len(df_under)\n",
    "print(\"The number of rows with 'Value' under 49.9 is:\", count_under_50)"
   ],
   "metadata": {
    "collapsed": false,
    "ExecuteTime": {
     "end_time": "2023-11-10T08:38:26.896420700Z",
     "start_time": "2023-11-10T08:38:26.529401800Z"
    }
   },
   "id": "aed284bb7e022bec"
  },
  {
   "cell_type": "code",
   "execution_count": 8,
   "outputs": [
    {
     "name": "stdout",
     "output_type": "stream",
     "text": [
      "                      Value  Over_50.1_over_time  Under_49.9_over_time\n",
      "Time                                                                  \n",
      "2021-01-01 00:00:00  49.999                False                 False\n",
      "2021-01-01 00:00:01  49.999                False                 False\n",
      "2021-01-01 00:00:02  49.997                False                 False\n",
      "2021-01-01 00:00:03  49.995                False                 False\n",
      "2021-01-01 00:00:04  49.994                False                 False\n",
      "...                     ...                  ...                   ...\n",
      "2023-09-29 23:59:56   0.000                False                  True\n",
      "2023-09-29 23:59:57   0.000                False                  True\n",
      "2023-09-29 23:59:58   0.000                False                  True\n",
      "2023-09-29 23:59:59   0.000                False                  True\n",
      "2023-09-30 00:00:00   0.000                False                  True\n",
      "\n",
      "[85708811 rows x 3 columns]\n"
     ]
    }
   ],
   "source": [
    "df.set_index('Time', inplace=True)\n",
    "time_window = '5S'\n",
    "df['Over_50.1_over_time'] = df['Value'].rolling(time_window).max() > 50.1\n",
    "df['Under_49.9_over_time'] = df['Value'].rolling(time_window).min() < 49.9\n",
    "print(df[['Value', 'Over_50.1_over_time', 'Under_49.9_over_time']])"
   ],
   "metadata": {
    "collapsed": false,
    "ExecuteTime": {
     "end_time": "2023-11-10T08:38:37.543972500Z",
     "start_time": "2023-11-10T08:38:26.812645400Z"
    }
   },
   "id": "e3c86651fbd498dd"
  },
  {
   "cell_type": "code",
   "execution_count": 9,
   "outputs": [
    {
     "name": "stdout",
     "output_type": "stream",
     "text": [
      "1086195\n"
     ]
    }
   ],
   "source": [
    "print(len(df[df['Over_50.1_over_time'] == True]))"
   ],
   "metadata": {
    "collapsed": false,
    "ExecuteTime": {
     "end_time": "2023-11-10T08:38:37.762355200Z",
     "start_time": "2023-11-10T08:38:37.523995300Z"
    }
   },
   "id": "a2be2ec454346993"
  },
  {
   "cell_type": "code",
   "execution_count": 10,
   "outputs": [
    {
     "name": "stdout",
     "output_type": "stream",
     "text": [
      "                      Value  Over_50.1_over_time  Under_49.9_over_time\n",
      "Time                                                                  \n",
      "2021-01-01 01:02:07  49.899                False                  True\n",
      "2021-01-01 01:02:08  49.900                False                  True\n",
      "2021-01-01 01:02:09  49.901                False                  True\n",
      "2021-01-01 01:02:10  49.900                False                  True\n",
      "2021-01-01 01:02:11  49.902                False                  True\n",
      "...                     ...                  ...                   ...\n",
      "2023-09-29 23:59:56   0.000                False                  True\n",
      "2023-09-29 23:59:57   0.000                False                  True\n",
      "2023-09-29 23:59:58   0.000                False                  True\n",
      "2023-09-29 23:59:59   0.000                False                  True\n",
      "2023-09-30 00:00:00   0.000                False                  True\n",
      "\n",
      "[3704795 rows x 3 columns]\n"
     ]
    }
   ],
   "source": [
    "print(df[df['Under_49.9_over_time'] == True])"
   ],
   "metadata": {
    "collapsed": false,
    "ExecuteTime": {
     "end_time": "2023-11-10T08:38:38.038652500Z",
     "start_time": "2023-11-10T08:38:37.747394900Z"
    }
   },
   "id": "f1c3722db90179e1"
  },
  {
   "cell_type": "code",
   "execution_count": 10,
   "outputs": [],
   "source": [],
   "metadata": {
    "collapsed": false,
    "ExecuteTime": {
     "end_time": "2023-11-10T08:38:38.038652500Z",
     "start_time": "2023-11-10T08:38:38.028647Z"
    }
   },
   "id": "3ede70c87f954d34"
  }
 ],
 "metadata": {
  "kernelspec": {
   "display_name": "Python 3",
   "language": "python",
   "name": "python3"
  },
  "language_info": {
   "codemirror_mode": {
    "name": "ipython",
    "version": 2
   },
   "file_extension": ".py",
   "mimetype": "text/x-python",
   "name": "python",
   "nbconvert_exporter": "python",
   "pygments_lexer": "ipython2",
   "version": "2.7.6"
  }
 },
 "nbformat": 4,
 "nbformat_minor": 5
}
