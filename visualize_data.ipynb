{
 "cells": [
  {
   "cell_type": "code",
   "execution_count": 7,
   "outputs": [],
   "source": [
    "import pandas as pd\n",
    "import os\n",
    "from concat_quoter_utc_toFeather import ConcatQuoterUtcToFeather"
   ],
   "metadata": {
    "collapsed": false,
    "ExecuteTime": {
     "end_time": "2023-11-17T10:32:55.011501500Z",
     "start_time": "2023-11-17T10:32:54.803059Z"
    }
   },
   "id": "3caf2372b73d5536"
  },
  {
   "cell_type": "code",
   "execution_count": 8,
   "outputs": [],
   "source": [
    "# Folder for binary df\n",
    "folder_name = 'temp_df'\n",
    "file_name = 'df.feather'\n",
    "file_path = os.path.join(folder_name, file_name)\n",
    "\n",
    "if not os.path.exists(file_path):\n",
    "    create_feather_file = ConcatQuoterUtcToFeather(folder_name, file_name)\n",
    "    create_feather_file.concat_quoter_utc()"
   ],
   "metadata": {
    "collapsed": false,
    "ExecuteTime": {
     "end_time": "2023-11-17T10:32:55.012499600Z",
     "start_time": "2023-11-17T10:32:54.841963400Z"
    }
   },
   "id": "212bdcc649f874e"
  },
  {
   "cell_type": "code",
   "execution_count": 9,
   "outputs": [],
   "source": [
    "df = pd.read_feather(file_path)"
   ],
   "metadata": {
    "collapsed": false,
    "ExecuteTime": {
     "end_time": "2023-11-17T10:32:57.833955200Z",
     "start_time": "2023-11-17T10:32:54.855918Z"
    }
   },
   "id": "e6aa9eeda3f32e16"
  },
  {
   "cell_type": "code",
   "execution_count": 10,
   "outputs": [
    {
     "name": "stdout",
     "output_type": "stream",
     "text": [
      "<class 'pandas.core.frame.DataFrame'>\n",
      "RangeIndex: 85705211 entries, 0 to 85705210\n",
      "Data columns (total 2 columns):\n",
      " #   Column  Dtype                           \n",
      "---  ------  -----                           \n",
      " 0   Time    datetime64[ns, Europe/Stockholm]\n",
      " 1   Value   float64                         \n",
      "dtypes: datetime64[ns, Europe/Stockholm](1), float64(1)\n",
      "memory usage: 1.3 GB\n",
      "None\n"
     ]
    }
   ],
   "source": [
    "print (df.info())"
   ],
   "metadata": {
    "collapsed": false,
    "ExecuteTime": {
     "end_time": "2023-11-17T10:32:57.910749700Z",
     "start_time": "2023-11-17T10:32:57.835948200Z"
    }
   },
   "id": "c9d4a2842d029f72"
  },
  {
   "cell_type": "code",
   "execution_count": 11,
   "outputs": [
    {
     "data": {
      "text/plain": "                        Time   Value\n0  2020-12-31 23:00:00+01:00  49.999\n1  2020-12-31 23:00:01+01:00  49.999\n2  2020-12-31 23:00:02+01:00  49.997\n3  2020-12-31 23:00:03+01:00  49.995\n4  2020-12-31 23:00:04+01:00  49.994\n5  2020-12-31 23:00:05+01:00  49.991\n6  2020-12-31 23:00:06+01:00  49.989\n7  2020-12-31 23:00:07+01:00  49.987\n8  2020-12-31 23:00:08+01:00  49.985\n9  2020-12-31 23:00:09+01:00  49.982\n10 2020-12-31 23:00:10+01:00  49.977\n11 2020-12-31 23:00:11+01:00  49.972\n12 2020-12-31 23:00:12+01:00  49.969\n13 2020-12-31 23:00:13+01:00  49.967\n14 2020-12-31 23:00:14+01:00  49.963\n15 2020-12-31 23:00:15+01:00  49.965\n16 2020-12-31 23:00:16+01:00  49.961\n17 2020-12-31 23:00:17+01:00  49.962\n18 2020-12-31 23:00:18+01:00  49.961\n19 2020-12-31 23:00:19+01:00  49.961",
      "text/html": "<div>\n<style scoped>\n    .dataframe tbody tr th:only-of-type {\n        vertical-align: middle;\n    }\n\n    .dataframe tbody tr th {\n        vertical-align: top;\n    }\n\n    .dataframe thead th {\n        text-align: right;\n    }\n</style>\n<table border=\"1\" class=\"dataframe\">\n  <thead>\n    <tr style=\"text-align: right;\">\n      <th></th>\n      <th>Time</th>\n      <th>Value</th>\n    </tr>\n  </thead>\n  <tbody>\n    <tr>\n      <th>0</th>\n      <td>2020-12-31 23:00:00+01:00</td>\n      <td>49.999</td>\n    </tr>\n    <tr>\n      <th>1</th>\n      <td>2020-12-31 23:00:01+01:00</td>\n      <td>49.999</td>\n    </tr>\n    <tr>\n      <th>2</th>\n      <td>2020-12-31 23:00:02+01:00</td>\n      <td>49.997</td>\n    </tr>\n    <tr>\n      <th>3</th>\n      <td>2020-12-31 23:00:03+01:00</td>\n      <td>49.995</td>\n    </tr>\n    <tr>\n      <th>4</th>\n      <td>2020-12-31 23:00:04+01:00</td>\n      <td>49.994</td>\n    </tr>\n    <tr>\n      <th>5</th>\n      <td>2020-12-31 23:00:05+01:00</td>\n      <td>49.991</td>\n    </tr>\n    <tr>\n      <th>6</th>\n      <td>2020-12-31 23:00:06+01:00</td>\n      <td>49.989</td>\n    </tr>\n    <tr>\n      <th>7</th>\n      <td>2020-12-31 23:00:07+01:00</td>\n      <td>49.987</td>\n    </tr>\n    <tr>\n      <th>8</th>\n      <td>2020-12-31 23:00:08+01:00</td>\n      <td>49.985</td>\n    </tr>\n    <tr>\n      <th>9</th>\n      <td>2020-12-31 23:00:09+01:00</td>\n      <td>49.982</td>\n    </tr>\n    <tr>\n      <th>10</th>\n      <td>2020-12-31 23:00:10+01:00</td>\n      <td>49.977</td>\n    </tr>\n    <tr>\n      <th>11</th>\n      <td>2020-12-31 23:00:11+01:00</td>\n      <td>49.972</td>\n    </tr>\n    <tr>\n      <th>12</th>\n      <td>2020-12-31 23:00:12+01:00</td>\n      <td>49.969</td>\n    </tr>\n    <tr>\n      <th>13</th>\n      <td>2020-12-31 23:00:13+01:00</td>\n      <td>49.967</td>\n    </tr>\n    <tr>\n      <th>14</th>\n      <td>2020-12-31 23:00:14+01:00</td>\n      <td>49.963</td>\n    </tr>\n    <tr>\n      <th>15</th>\n      <td>2020-12-31 23:00:15+01:00</td>\n      <td>49.965</td>\n    </tr>\n    <tr>\n      <th>16</th>\n      <td>2020-12-31 23:00:16+01:00</td>\n      <td>49.961</td>\n    </tr>\n    <tr>\n      <th>17</th>\n      <td>2020-12-31 23:00:17+01:00</td>\n      <td>49.962</td>\n    </tr>\n    <tr>\n      <th>18</th>\n      <td>2020-12-31 23:00:18+01:00</td>\n      <td>49.961</td>\n    </tr>\n    <tr>\n      <th>19</th>\n      <td>2020-12-31 23:00:19+01:00</td>\n      <td>49.961</td>\n    </tr>\n  </tbody>\n</table>\n</div>"
     },
     "metadata": {},
     "output_type": "display_data"
    }
   ],
   "source": [
    "display(df.head(20))"
   ],
   "metadata": {
    "collapsed": false,
    "ExecuteTime": {
     "end_time": "2023-11-17T10:32:57.999511700Z",
     "start_time": "2023-11-17T10:32:57.886812800Z"
    }
   },
   "id": "dda9feea03d319f6"
  },
  {
   "cell_type": "code",
   "execution_count": 6,
   "outputs": [
    {
     "data": {
      "text/plain": "                              Time     Value\n20952261 2021-09-02 12:04:19+02:00  49.47000\n20952262 2021-09-02 12:04:20+02:00  49.48900\n20952263 2021-09-02 12:04:21+02:00  49.44600\n51135191 2022-08-21 20:13:05+02:00  50.50240\n54074178 2022-09-24 20:36:12+02:00  49.42628\n54074179 2022-09-24 20:36:13+02:00  49.45048\n54074180 2022-09-24 20:36:14+02:00  49.45205\n54074181 2022-09-24 20:36:15+02:00  49.47887\n66503407 2023-02-17 16:09:59+01:00  49.46900\n66503408 2023-02-17 16:10:00+01:00  49.43100\n66503409 2023-02-17 16:10:01+01:00  49.43200\n66503410 2023-02-17 16:10:02+01:00  49.44700\n66503411 2023-02-17 16:10:03+01:00  49.46300\n66503412 2023-02-17 16:10:04+01:00  49.49100\n72254416 2023-04-26 06:40:07+02:00  49.43386\n72254417 2023-04-26 06:40:08+02:00  49.32441\n72254418 2023-04-26 06:40:09+02:00  49.31911\n72254419 2023-04-26 06:40:10+02:00  49.35835\n72254420 2023-04-26 06:40:11+02:00  49.38340\n72254421 2023-04-26 06:40:12+02:00  49.43063\n72254422 2023-04-26 06:40:13+02:00  49.46975",
      "text/html": "<div>\n<style scoped>\n    .dataframe tbody tr th:only-of-type {\n        vertical-align: middle;\n    }\n\n    .dataframe tbody tr th {\n        vertical-align: top;\n    }\n\n    .dataframe thead th {\n        text-align: right;\n    }\n</style>\n<table border=\"1\" class=\"dataframe\">\n  <thead>\n    <tr style=\"text-align: right;\">\n      <th></th>\n      <th>Time</th>\n      <th>Value</th>\n    </tr>\n  </thead>\n  <tbody>\n    <tr>\n      <th>20952261</th>\n      <td>2021-09-02 12:04:19+02:00</td>\n      <td>49.47000</td>\n    </tr>\n    <tr>\n      <th>20952262</th>\n      <td>2021-09-02 12:04:20+02:00</td>\n      <td>49.48900</td>\n    </tr>\n    <tr>\n      <th>20952263</th>\n      <td>2021-09-02 12:04:21+02:00</td>\n      <td>49.44600</td>\n    </tr>\n    <tr>\n      <th>51135191</th>\n      <td>2022-08-21 20:13:05+02:00</td>\n      <td>50.50240</td>\n    </tr>\n    <tr>\n      <th>54074178</th>\n      <td>2022-09-24 20:36:12+02:00</td>\n      <td>49.42628</td>\n    </tr>\n    <tr>\n      <th>54074179</th>\n      <td>2022-09-24 20:36:13+02:00</td>\n      <td>49.45048</td>\n    </tr>\n    <tr>\n      <th>54074180</th>\n      <td>2022-09-24 20:36:14+02:00</td>\n      <td>49.45205</td>\n    </tr>\n    <tr>\n      <th>54074181</th>\n      <td>2022-09-24 20:36:15+02:00</td>\n      <td>49.47887</td>\n    </tr>\n    <tr>\n      <th>66503407</th>\n      <td>2023-02-17 16:09:59+01:00</td>\n      <td>49.46900</td>\n    </tr>\n    <tr>\n      <th>66503408</th>\n      <td>2023-02-17 16:10:00+01:00</td>\n      <td>49.43100</td>\n    </tr>\n    <tr>\n      <th>66503409</th>\n      <td>2023-02-17 16:10:01+01:00</td>\n      <td>49.43200</td>\n    </tr>\n    <tr>\n      <th>66503410</th>\n      <td>2023-02-17 16:10:02+01:00</td>\n      <td>49.44700</td>\n    </tr>\n    <tr>\n      <th>66503411</th>\n      <td>2023-02-17 16:10:03+01:00</td>\n      <td>49.46300</td>\n    </tr>\n    <tr>\n      <th>66503412</th>\n      <td>2023-02-17 16:10:04+01:00</td>\n      <td>49.49100</td>\n    </tr>\n    <tr>\n      <th>72254416</th>\n      <td>2023-04-26 06:40:07+02:00</td>\n      <td>49.43386</td>\n    </tr>\n    <tr>\n      <th>72254417</th>\n      <td>2023-04-26 06:40:08+02:00</td>\n      <td>49.32441</td>\n    </tr>\n    <tr>\n      <th>72254418</th>\n      <td>2023-04-26 06:40:09+02:00</td>\n      <td>49.31911</td>\n    </tr>\n    <tr>\n      <th>72254419</th>\n      <td>2023-04-26 06:40:10+02:00</td>\n      <td>49.35835</td>\n    </tr>\n    <tr>\n      <th>72254420</th>\n      <td>2023-04-26 06:40:11+02:00</td>\n      <td>49.38340</td>\n    </tr>\n    <tr>\n      <th>72254421</th>\n      <td>2023-04-26 06:40:12+02:00</td>\n      <td>49.43063</td>\n    </tr>\n    <tr>\n      <th>72254422</th>\n      <td>2023-04-26 06:40:13+02:00</td>\n      <td>49.46975</td>\n    </tr>\n  </tbody>\n</table>\n</div>"
     },
     "metadata": {},
     "output_type": "display_data"
    }
   ],
   "source": [
    "display(df.loc[(~df['Value'].between(49.5,50.5)) & (df['Value'] != -1)])"
   ],
   "metadata": {
    "collapsed": false,
    "ExecuteTime": {
     "end_time": "2023-11-16T16:08:50.227800300Z",
     "start_time": "2023-11-16T16:08:49.419961200Z"
    }
   },
   "id": "1aac4ce324476df4"
  },
  {
   "cell_type": "code",
   "execution_count": 14,
   "outputs": [
    {
     "name": "stdout",
     "output_type": "stream",
     "text": [
      "                              Time     Value\n",
      "54074178 2022-09-24 20:36:12+02:00  49.42628\n",
      "54074181 2022-09-24 20:36:15+02:00  49.47887\n",
      "66503407 2023-02-17 16:09:59+01:00  49.46900\n",
      "66503408 2023-02-17 16:10:00+01:00  49.43100\n",
      "66503409 2023-02-17 16:10:01+01:00  49.43200\n",
      "66503410 2023-02-17 16:10:02+01:00  49.44700\n",
      "66503411 2023-02-17 16:10:03+01:00  49.46300\n",
      "66503412 2023-02-17 16:10:04+01:00  49.49100\n",
      "72254416 2023-04-26 06:40:07+02:00  49.43386\n",
      "72254417 2023-04-26 06:40:08+02:00  49.32441\n",
      "72254418 2023-04-26 06:40:09+02:00  49.31911\n",
      "72254419 2023-04-26 06:40:10+02:00  49.35835\n",
      "72254420 2023-04-26 06:40:11+02:00  49.38340\n",
      "72254421 2023-04-26 06:40:12+02:00  49.43063\n",
      "72254422 2023-04-26 06:40:13+02:00  49.46975\n"
     ]
    }
   ],
   "source": [
    "threshold = 49.5\n",
    "under_threshold = (df['Value'] < threshold) & (df['Value'] != -1)\n",
    "min_consecutive_seconds = 5\n",
    "consecutive_occurrences = under_threshold.groupby((~under_threshold).cumsum()).cumcount() + 1\n",
    "\n",
    "# Filter values based on the minimum consecutive seconds\n",
    "filtered_values = df.loc[consecutive_occurrences >= min_consecutive_seconds]\n",
    "\n",
    "# Add a buffer to include leading values\n",
    "buffer_size = 3  # Adjust this to include more or fewer leading values\n",
    "filtered_values_with_buffer = df.loc[df.index.isin(filtered_values.index.union(filtered_values.index - buffer_size))]\n",
    "\n",
    "# Print the result\n",
    "print(filtered_values_with_buffer)"
   ],
   "metadata": {
    "collapsed": false,
    "ExecuteTime": {
     "end_time": "2023-11-17T12:48:11.690946400Z",
     "start_time": "2023-11-17T12:44:03.812172900Z"
    }
   },
   "id": "beca37a7cfd62014"
  },
  {
   "cell_type": "code",
   "execution_count": 8,
   "outputs": [
    {
     "data": {
      "text/plain": "                       Time   Value\n0 2020-12-31 23:00:00+01:00  49.999\n1 2020-12-31 23:00:01+01:00  49.999\n2 2020-12-31 23:00:02+01:00  49.997\n3 2020-12-31 23:00:03+01:00  49.995\n4 2020-12-31 23:00:04+01:00  49.994",
      "text/html": "<div>\n<style scoped>\n    .dataframe tbody tr th:only-of-type {\n        vertical-align: middle;\n    }\n\n    .dataframe tbody tr th {\n        vertical-align: top;\n    }\n\n    .dataframe thead th {\n        text-align: right;\n    }\n</style>\n<table border=\"1\" class=\"dataframe\">\n  <thead>\n    <tr style=\"text-align: right;\">\n      <th></th>\n      <th>Time</th>\n      <th>Value</th>\n    </tr>\n  </thead>\n  <tbody>\n    <tr>\n      <th>0</th>\n      <td>2020-12-31 23:00:00+01:00</td>\n      <td>49.999</td>\n    </tr>\n    <tr>\n      <th>1</th>\n      <td>2020-12-31 23:00:01+01:00</td>\n      <td>49.999</td>\n    </tr>\n    <tr>\n      <th>2</th>\n      <td>2020-12-31 23:00:02+01:00</td>\n      <td>49.997</td>\n    </tr>\n    <tr>\n      <th>3</th>\n      <td>2020-12-31 23:00:03+01:00</td>\n      <td>49.995</td>\n    </tr>\n    <tr>\n      <th>4</th>\n      <td>2020-12-31 23:00:04+01:00</td>\n      <td>49.994</td>\n    </tr>\n  </tbody>\n</table>\n</div>"
     },
     "execution_count": 8,
     "metadata": {},
     "output_type": "execute_result"
    }
   ],
   "source": [
    "df.head()"
   ],
   "metadata": {
    "collapsed": false,
    "ExecuteTime": {
     "end_time": "2023-11-16T16:09:07.762194500Z",
     "start_time": "2023-11-16T16:09:07.746255800Z"
    }
   },
   "id": "789396dbc2715365"
  },
  {
   "cell_type": "code",
   "execution_count": 9,
   "outputs": [
    {
     "name": "stdout",
     "output_type": "stream",
     "text": [
      "                           Time   Value\n",
      "0     2021-01-01 01:59:51+01:00  49.966\n",
      "1     2021-01-01 01:59:52+01:00  49.964\n",
      "2     2021-01-01 01:59:53+01:00  49.965\n",
      "3     2021-01-01 01:59:54+01:00  49.964\n",
      "4     2021-01-01 01:59:55+01:00  49.962\n",
      "...                         ...     ...\n",
      "19587 2023-08-31 18:14:33+02:00  50.004\n",
      "19588 2023-08-31 18:14:34+02:00  49.998\n",
      "19589 2023-08-31 18:14:35+02:00  49.995\n",
      "19590 2023-08-31 18:14:36+02:00  49.990\n",
      "19591 2023-08-31 18:14:37+02:00  49.981\n",
      "\n",
      "[19592 rows x 2 columns]\n"
     ]
    }
   ],
   "source": [
    "# Define the threshold value\n",
    "threshold = 49.5\n",
    "\n",
    "# Set 'Time' as the index\n",
    "df.set_index('Time', inplace=True)\n",
    "\n",
    "# Define the rolling window size\n",
    "time_window = '10S'\n",
    "\n",
    "# Calculate the rolling minimum within the specified window\n",
    "df['rolling_min'] = df['Value'].rolling(time_window).min()\n",
    "\n",
    "# Identify consecutive occurrences that meet the condition\n",
    "df['Under_49.9_over_time'] = (df['rolling_min'] < threshold) & (df['Value'] != -1)\n",
    "\n",
    "# Filter values based on the minimum consecutive seconds\n",
    "min_consecutive_seconds = 5\n",
    "filtered_values = df.loc[df['Under_49.9_over_time'].rolling(window=min_consecutive_seconds).sum() >= min_consecutive_seconds]\n",
    "\n",
    "# Reset index for final output (optional)\n",
    "filtered_values.reset_index(inplace=True, names=\"Time\")\n",
    "\n",
    "# Print the result\n",
    "print(filtered_values[['Time', 'Value']])"
   ],
   "metadata": {
    "collapsed": false,
    "ExecuteTime": {
     "end_time": "2023-11-16T16:09:15.794092700Z",
     "start_time": "2023-11-16T16:09:07.767161Z"
    }
   },
   "id": "5e1fda414a246f99"
  },
  {
   "cell_type": "code",
   "execution_count": null,
   "outputs": [],
   "source": [
    "df_over = df[(df['Value'] > 50.1) & (df['Value'] != -1)]\n",
    "count_over_50 = len(df_over)\n",
    "print(\"The number of rows with 'Value' over 50.1 is:\", count_over_50)"
   ],
   "metadata": {
    "collapsed": false
   },
   "id": "6a6817d840df3b63"
  },
  {
   "cell_type": "code",
   "execution_count": null,
   "outputs": [],
   "source": [
    "df_under = df[(df['Value'] < 49.9) & (df['Value'] != -1)]\n",
    "count_under_50 = len(df_under)\n",
    "print(\"The number of rows with 'Value' under 49.9 is:\", count_under_50)"
   ],
   "metadata": {
    "collapsed": false
   },
   "id": "aed284bb7e022bec"
  },
  {
   "cell_type": "code",
   "execution_count": null,
   "outputs": [],
   "source": [],
   "metadata": {
    "collapsed": false
   },
   "id": "7a76d43bdb4ba49d"
  },
  {
   "cell_type": "markdown",
   "source": [
    "#### Disturbance active over time"
   ],
   "metadata": {
    "collapsed": false
   },
   "id": "dd7cff7743914fab"
  },
  {
   "cell_type": "code",
   "execution_count": null,
   "outputs": [],
   "source": [
    "df.set_index('Time', inplace=True)\n",
    "time_window = '5S'\n",
    "df['Over_50.1_over_time'] = (df['Value'].rolling(time_window).max() > 50.1) & (df['Value'] != -1)\n",
    "df['Under_49.9_over_time'] = (df['Value'].rolling(time_window).min() < 49.9) & (df['Value'] != -1)\n",
    "ValOverUnder = (df[['Value', 'Over_50.1_over_time', 'Under_49.9_over_time']])\n",
    "ValOverUnder"
   ],
   "metadata": {
    "collapsed": false
   },
   "id": "e3c86651fbd498dd"
  },
  {
   "cell_type": "code",
   "execution_count": null,
   "outputs": [],
   "source": [
    "print(len(df[df['Over_50.1_over_time'] == True]))"
   ],
   "metadata": {
    "collapsed": false
   },
   "id": "a2be2ec454346993"
  },
  {
   "cell_type": "code",
   "execution_count": null,
   "outputs": [],
   "source": [
    "print([df['Under_49.9_over_time'] == True])"
   ],
   "metadata": {
    "collapsed": false
   },
   "id": "f1c3722db90179e1"
  }
 ],
 "metadata": {
  "kernelspec": {
   "display_name": "Python 3",
   "language": "python",
   "name": "python3"
  },
  "language_info": {
   "codemirror_mode": {
    "name": "ipython",
    "version": 2
   },
   "file_extension": ".py",
   "mimetype": "text/x-python",
   "name": "python",
   "nbconvert_exporter": "python",
   "pygments_lexer": "ipython2",
   "version": "2.7.6"
  }
 },
 "nbformat": 4,
 "nbformat_minor": 5
}
