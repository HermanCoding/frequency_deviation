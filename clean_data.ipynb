{
 "cells": [
  {
   "cell_type": "markdown",
   "source": [
    "#### Imports"
   ],
   "metadata": {
    "collapsed": false
   },
   "id": "9d793c0a48251aa2"
  },
  {
   "cell_type": "code",
   "execution_count": 1,
   "outputs": [],
   "source": [
    "import os\n",
    "import pandas as pd\n",
    "import date_range_data_extractor"
   ],
   "metadata": {
    "collapsed": false,
    "ExecuteTime": {
     "end_time": "2023-11-08T13:04:08.128931300Z",
     "start_time": "2023-11-08T13:04:07.199582Z"
    }
   },
   "id": "56605910302ac169"
  },
  {
   "cell_type": "markdown",
   "source": [
    "## Setup environment"
   ],
   "metadata": {
    "collapsed": false
   },
   "id": "e0c7e97707f1c9f4"
  },
  {
   "cell_type": "code",
   "execution_count": 2,
   "outputs": [],
   "source": [
    "#TODO eventuellt sätta up variabler för mappar m.m.\n",
    "from_date = '2021-04-01' # ex: '2021-01-01'\n",
    "to_date = '2021-06-30' # ex: '2021-03-31'\n",
    "output_filename = '2021-Q2_seconds.csv' # ex: '2021-Q1_seconds.csv'"
   ],
   "metadata": {
    "collapsed": false,
    "ExecuteTime": {
     "end_time": "2023-11-08T13:04:08.252676300Z",
     "start_time": "2023-11-08T13:04:08.130926600Z"
    }
   },
   "id": "4c881350b100140f"
  },
  {
   "cell_type": "markdown",
   "source": [
    "## Read data"
   ],
   "metadata": {
    "collapsed": false
   },
   "id": "b5c1e8a1ac234188"
  },
  {
   "cell_type": "code",
   "execution_count": 3,
   "id": "initial_id",
   "metadata": {
    "collapsed": true,
    "ExecuteTime": {
     "end_time": "2023-11-08T13:05:16.888677900Z",
     "start_time": "2023-11-08T13:04:08.222756300Z"
    }
   },
   "outputs": [
    {
     "name": "stdout",
     "output_type": "stream",
     "text": [
      "Loading file 2021-04-01.csv...\n",
      "Loading file 2021-04-02.csv...\n",
      "Loading file 2021-04-03.csv...\n",
      "Loading file 2021-04-04.csv...\n",
      "Loading file 2021-04-05.csv...\n",
      "Loading file 2021-04-06.csv...\n",
      "Loading file 2021-04-07.csv...\n",
      "Loading file 2021-04-08.csv...\n",
      "Loading file 2021-04-09.csv...\n",
      "Loading file 2021-04-10.csv...\n",
      "Loading file 2021-04-11.csv...\n",
      "Loading file 2021-04-12.csv...\n",
      "Loading file 2021-04-13.csv...\n",
      "Loading file 2021-04-14.csv...\n",
      "Loading file 2021-04-15.csv...\n",
      "Loading file 2021-04-16.csv...\n",
      "Loading file 2021-04-17.csv...\n",
      "Loading file 2021-04-18.csv...\n",
      "Loading file 2021-04-19.csv...\n",
      "Loading file 2021-04-20.csv...\n",
      "Loading file 2021-04-21.csv...\n",
      "Loading file 2021-04-22.csv...\n",
      "Loading file 2021-04-23.csv...\n",
      "Loading file 2021-04-24.csv...\n",
      "Loading file 2021-04-25.csv...\n",
      "Loading file 2021-04-26.csv...\n",
      "Loading file 2021-04-27.csv...\n",
      "Loading file 2021-04-28.csv...\n",
      "Loading file 2021-04-29.csv...\n",
      "Loading file 2021-04-30.csv...\n",
      "Loading file 2021-05-01.csv...\n",
      "Loading file 2021-05-02.csv...\n",
      "Loading file 2021-05-03.csv...\n",
      "Loading file 2021-05-04.csv...\n",
      "Loading file 2021-05-05.csv...\n",
      "Loading file 2021-05-06.csv...\n",
      "Loading file 2021-05-07.csv...\n",
      "Loading file 2021-05-08.csv...\n",
      "Loading file 2021-05-09.csv...\n",
      "Loading file 2021-05-10.csv...\n",
      "Loading file 2021-05-11.csv...\n",
      "Loading file 2021-05-12.csv...\n",
      "Loading file 2021-05-13.csv...\n",
      "Loading file 2021-05-14.csv...\n",
      "Loading file 2021-05-15.csv...\n",
      "Loading file 2021-05-16.csv...\n",
      "Loading file 2021-05-17.csv...\n",
      "Loading file 2021-05-18.csv...\n",
      "Loading file 2021-05-19.csv...\n",
      "Loading file 2021-05-20.csv...\n",
      "Loading file 2021-05-21.csv...\n",
      "Loading file 2021-05-22.csv...\n",
      "Loading file 2021-05-23.csv...\n",
      "Loading file 2021-05-24.csv...\n",
      "Loading file 2021-05-25.csv...\n",
      "Loading file 2021-05-26.csv...\n",
      "Loading file 2021-05-27.csv...\n",
      "Loading file 2021-05-28.csv...\n",
      "Loading file 2021-05-29.csv...\n",
      "Loading file 2021-05-30.csv...\n",
      "Loading file 2021-05-31.csv...\n",
      "Loading file 2021-06-01.csv...\n",
      "Loading file 2021-06-02.csv...\n",
      "Loading file 2021-06-03.csv...\n",
      "Loading file 2021-06-04.csv...\n",
      "Loading file 2021-06-05.csv...\n",
      "Loading file 2021-06-06.csv...\n",
      "Loading file 2021-06-07.csv...\n",
      "Loading file 2021-06-08.csv...\n",
      "Loading file 2021-06-09.csv...\n",
      "Loading file 2021-06-10.csv...\n",
      "Loading file 2021-06-11.csv...\n",
      "Loading file 2021-06-12.csv...\n",
      "Loading file 2021-06-13.csv...\n",
      "Loading file 2021-06-14.csv...\n",
      "Loading file 2021-06-15.csv...\n",
      "Loading file 2021-06-16.csv...\n",
      "Loading file 2021-06-17.csv...\n",
      "Loading file 2021-06-18.csv...\n",
      "Loading file 2021-06-19.csv...\n",
      "Loading file 2021-06-20.csv...\n",
      "Loading file 2021-06-21.csv...\n",
      "Loading file 2021-06-22.csv...\n",
      "Loading file 2021-06-23.csv...\n",
      "Loading file 2021-06-24.csv...\n",
      "Loading file 2021-06-25.csv...\n",
      "Loading file 2021-06-26.csv...\n",
      "Loading file 2021-06-27.csv...\n",
      "Loading file 2021-06-28.csv...\n",
      "Loading file 2021-06-29.csv...\n",
      "Loading file 2021-06-30.csv...\n"
     ]
    }
   ],
   "source": [
    "# Extract data from csv files.\n",
    "data_extractor = date_range_data_extractor.DateRangeDataExtractor()\n",
    "data_extractor.extract_data(r'./files/', from_date, to_date)\n",
    "data = data_extractor.data"
   ]
  },
  {
   "cell_type": "code",
   "execution_count": 4,
   "outputs": [
    {
     "name": "stdout",
     "output_type": "stream",
     "text": [
      "<class 'pandas.core.frame.DataFrame'>\n",
      "RangeIndex: 78530288 entries, 0 to 78530287\n",
      "Data columns (total 2 columns):\n",
      " #   Column  Dtype  \n",
      "---  ------  -----  \n",
      " 0   Time    object \n",
      " 1   Value   float64\n",
      "dtypes: float64(1), object(1)\n",
      "memory usage: 1.2+ GB\n",
      "None\n",
      "Is not a number: \n",
      "Time     0\n",
      "Value    0\n",
      "dtype: int64\n",
      "\n",
      "Is a NULL: \n",
      "Time     0\n",
      "Value    0\n",
      "dtype: int64\n",
      "\n",
      "Duplicates: \n",
      "                             Time   Value\n",
      "36001     2021-04-01 01:00:00.000  49.956\n",
      "72002     2021-04-01 02:00:00.000  49.974\n",
      "108003    2021-04-01 03:00:00.000  49.972\n",
      "144002    2021-04-01 04:00:00.000  50.047\n",
      "25934040  2021-05-01 01:00:00.000  50.026\n",
      "25970014  2021-05-01 02:00:00.000  49.997\n",
      "26041977  2021-05-01 04:00:00.000  50.001\n",
      "52678225  2021-06-01 01:00:00.000  50.024\n",
      "52714222  2021-06-01 02:00:00.000  49.991\n",
      "52750002  2021-06-01 03:00:00.000  50.014\n",
      "52786003  2021-06-01 04:00:00.000  50.072\n"
     ]
    }
   ],
   "source": [
    "df = pd.concat(data, ignore_index=True, join='inner')\n",
    "print(df.info(), end='\\n\\n')\n",
    "print(f'Is not a number: \\n{df.isna().sum()}', end='\\n\\n\\n')\n",
    "print(f'Is a NULL: \\n{df.isnull().sum()}', end='\\n\\n\\n')\n",
    "print(f'Duplicates: \\n{df[df.duplicated()]}', end='\\n\\n\\n')"
   ],
   "metadata": {
    "collapsed": false,
    "ExecuteTime": {
     "end_time": "2023-11-08T13:06:43.070931900Z",
     "start_time": "2023-11-08T13:05:18.091461800Z"
    }
   },
   "id": "b4b0b868419679a0"
  },
  {
   "cell_type": "markdown",
   "source": [
    "Drop duplicates if any"
   ],
   "metadata": {
    "collapsed": false
   },
   "id": "ce28ba9a762671f2"
  },
  {
   "cell_type": "code",
   "execution_count": 5,
   "outputs": [],
   "source": [
    "df = df.drop_duplicates()"
   ],
   "metadata": {
    "collapsed": false,
    "ExecuteTime": {
     "end_time": "2023-11-08T13:07:57.949932700Z",
     "start_time": "2023-11-08T13:06:43.091875800Z"
    }
   },
   "id": "31c4e11ed626341"
  },
  {
   "cell_type": "markdown",
   "source": [
    "## Scale data\n",
    "Change the Time value to datetime format:"
   ],
   "metadata": {
    "collapsed": false
   },
   "id": "4fcf67165c864fa1"
  },
  {
   "cell_type": "code",
   "execution_count": 7,
   "outputs": [
    {
     "name": "stdout",
     "output_type": "stream",
     "text": [
      "<class 'pandas.core.frame.DataFrame'>\n",
      "Index: 78530277 entries, 0 to 78530287\n",
      "Data columns (total 2 columns):\n",
      " #   Column  Dtype         \n",
      "---  ------  -----         \n",
      " 0   Time    datetime64[ns]\n",
      " 1   Value   float64       \n",
      "dtypes: datetime64[ns](1), float64(1)\n",
      "memory usage: 1.8 GB\n",
      "None\n"
     ]
    }
   ],
   "source": [
    "df['Time'] = pd.to_datetime(df['Time'])\n",
    "print(df.info(20))"
   ],
   "metadata": {
    "collapsed": false,
    "ExecuteTime": {
     "end_time": "2023-11-08T13:10:18.005105900Z",
     "start_time": "2023-11-08T13:09:09.400934600Z"
    }
   },
   "id": "ce7580f5063d2ef8"
  },
  {
   "cell_type": "code",
   "execution_count": 10,
   "outputs": [
    {
     "name": "stdout",
     "output_type": "stream",
     "text": [
      "Duplicates in Time column: \n",
      "                        Time   Value\n",
      "26005975 2021-05-01 03:00:00  50.030\n",
      "26005976 2021-05-01 03:00:00  50.029\n"
     ]
    }
   ],
   "source": [
    "print(f'Duplicates in Time column: \\n{df[df.duplicated(subset=\"Time\", keep=False)]}', end='\\n\\n\\n')"
   ],
   "metadata": {
    "collapsed": false,
    "ExecuteTime": {
     "end_time": "2023-11-08T13:17:46.795046700Z",
     "start_time": "2023-11-08T13:17:27.376566700Z"
    }
   },
   "id": "e4e93e062ea15efd"
  },
  {
   "cell_type": "code",
   "execution_count": 11,
   "outputs": [
    {
     "data": {
      "text/plain": "                            Time   Value\n0        2021-04-01 00:00:00.000  50.070\n1        2021-04-01 00:00:00.100  50.071\n2        2021-04-01 00:00:00.200  50.071\n3        2021-04-01 00:00:00.300  50.071\n4        2021-04-01 00:00:00.400  50.071\n...                          ...     ...\n78530283 2021-06-30 23:59:59.500  50.057\n78530284 2021-06-30 23:59:59.600  50.057\n78530285 2021-06-30 23:59:59.700  50.057\n78530286 2021-06-30 23:59:59.800  50.058\n78530287 2021-06-30 23:59:59.900  50.060\n\n[78530276 rows x 2 columns]",
      "text/html": "<div>\n<style scoped>\n    .dataframe tbody tr th:only-of-type {\n        vertical-align: middle;\n    }\n\n    .dataframe tbody tr th {\n        vertical-align: top;\n    }\n\n    .dataframe thead th {\n        text-align: right;\n    }\n</style>\n<table border=\"1\" class=\"dataframe\">\n  <thead>\n    <tr style=\"text-align: right;\">\n      <th></th>\n      <th>Time</th>\n      <th>Value</th>\n    </tr>\n  </thead>\n  <tbody>\n    <tr>\n      <th>0</th>\n      <td>2021-04-01 00:00:00.000</td>\n      <td>50.070</td>\n    </tr>\n    <tr>\n      <th>1</th>\n      <td>2021-04-01 00:00:00.100</td>\n      <td>50.071</td>\n    </tr>\n    <tr>\n      <th>2</th>\n      <td>2021-04-01 00:00:00.200</td>\n      <td>50.071</td>\n    </tr>\n    <tr>\n      <th>3</th>\n      <td>2021-04-01 00:00:00.300</td>\n      <td>50.071</td>\n    </tr>\n    <tr>\n      <th>4</th>\n      <td>2021-04-01 00:00:00.400</td>\n      <td>50.071</td>\n    </tr>\n    <tr>\n      <th>...</th>\n      <td>...</td>\n      <td>...</td>\n    </tr>\n    <tr>\n      <th>78530283</th>\n      <td>2021-06-30 23:59:59.500</td>\n      <td>50.057</td>\n    </tr>\n    <tr>\n      <th>78530284</th>\n      <td>2021-06-30 23:59:59.600</td>\n      <td>50.057</td>\n    </tr>\n    <tr>\n      <th>78530285</th>\n      <td>2021-06-30 23:59:59.700</td>\n      <td>50.057</td>\n    </tr>\n    <tr>\n      <th>78530286</th>\n      <td>2021-06-30 23:59:59.800</td>\n      <td>50.058</td>\n    </tr>\n    <tr>\n      <th>78530287</th>\n      <td>2021-06-30 23:59:59.900</td>\n      <td>50.060</td>\n    </tr>\n  </tbody>\n</table>\n<p>78530276 rows × 2 columns</p>\n</div>"
     },
     "execution_count": 11,
     "metadata": {},
     "output_type": "execute_result"
    }
   ],
   "source": [
    "df.drop_duplicates(subset='Time')"
   ],
   "metadata": {
    "collapsed": false,
    "ExecuteTime": {
     "end_time": "2023-11-08T13:19:43.148740800Z",
     "start_time": "2023-11-08T13:19:23.703718800Z"
    }
   },
   "id": "d0da198db305f804"
  },
  {
   "cell_type": "markdown",
   "source": [
    "#### Filter the data to seconds\n",
    "Resetting index and clearing dataframe df from memory"
   ],
   "metadata": {
    "collapsed": false
   },
   "id": "7d0adf43c1ececc8"
  },
  {
   "cell_type": "code",
   "execution_count": 12,
   "outputs": [
    {
     "name": "stdout",
     "output_type": "stream",
     "text": [
      "                  Time   Value\n",
      "0  2021-04-01 00:00:00  50.070\n",
      "1  2021-04-01 00:00:01  50.069\n",
      "2  2021-04-01 00:00:02  50.067\n",
      "3  2021-04-01 00:00:03  50.066\n",
      "4  2021-04-01 00:00:04  50.067\n",
      "5  2021-04-01 00:00:05  50.066\n",
      "6  2021-04-01 00:00:06  50.067\n",
      "7  2021-04-01 00:00:07  50.065\n",
      "8  2021-04-01 00:00:08  50.061\n",
      "9  2021-04-01 00:00:09  50.054\n",
      "10 2021-04-01 00:00:10  50.050\n",
      "11 2021-04-01 00:00:11  50.041\n",
      "12 2021-04-01 00:00:12  50.037\n",
      "13 2021-04-01 00:00:13  50.033\n",
      "14 2021-04-01 00:00:14  50.026\n",
      "15 2021-04-01 00:00:15  50.024\n",
      "16 2021-04-01 00:00:16  50.016\n",
      "17 2021-04-01 00:00:17  50.011\n",
      "18 2021-04-01 00:00:18  50.004\n",
      "19 2021-04-01 00:00:19  49.996\n"
     ]
    }
   ],
   "source": [
    "filtered_df = df[df['Time'].dt.microsecond == 0]\n",
    "del df\n",
    "filtered_df.reset_index(drop=True, inplace=True)\n",
    "print(filtered_df.head(20))"
   ],
   "metadata": {
    "collapsed": false,
    "ExecuteTime": {
     "end_time": "2023-11-08T13:20:58.789160Z",
     "start_time": "2023-11-08T13:20:53.340606300Z"
    }
   },
   "id": "a0c069726cfe43e6"
  },
  {
   "cell_type": "markdown",
   "source": [
    "Finding any missing date in the series of dates"
   ],
   "metadata": {
    "collapsed": false
   },
   "id": "b3ec566000febccf"
  },
  {
   "cell_type": "code",
   "execution_count": 13,
   "outputs": [
    {
     "ename": "ValueError",
     "evalue": "cannot reindex on an axis with duplicate labels",
     "output_type": "error",
     "traceback": [
      "\u001B[1;31m---------------------------------------------------------------------------\u001B[0m",
      "\u001B[1;31mValueError\u001B[0m                                Traceback (most recent call last)",
      "Cell \u001B[1;32mIn[13], line 4\u001B[0m\n\u001B[0;32m      1\u001B[0m date_range \u001B[38;5;241m=\u001B[39m pd\u001B[38;5;241m.\u001B[39mdate_range(start\u001B[38;5;241m=\u001B[39mfrom_date, end\u001B[38;5;241m=\u001B[39mto_date, freq\u001B[38;5;241m=\u001B[39m\u001B[38;5;124m'\u001B[39m\u001B[38;5;124mS\u001B[39m\u001B[38;5;124m'\u001B[39m)\n\u001B[0;32m      3\u001B[0m filtered_df\u001B[38;5;241m.\u001B[39mset_index(\u001B[38;5;124m'\u001B[39m\u001B[38;5;124mTime\u001B[39m\u001B[38;5;124m'\u001B[39m, inplace\u001B[38;5;241m=\u001B[39m\u001B[38;5;28;01mTrue\u001B[39;00m)\n\u001B[1;32m----> 4\u001B[0m filtered_df \u001B[38;5;241m=\u001B[39m \u001B[43mfiltered_df\u001B[49m\u001B[38;5;241;43m.\u001B[39;49m\u001B[43mreindex\u001B[49m\u001B[43m(\u001B[49m\u001B[43mdate_range\u001B[49m\u001B[43m)\u001B[49m\n\u001B[0;32m      5\u001B[0m \u001B[38;5;28mprint\u001B[39m(\u001B[38;5;124mf\u001B[39m\u001B[38;5;124m'\u001B[39m\u001B[38;5;124mNumber of missing dates: \u001B[39m\u001B[38;5;132;01m{\u001B[39;00mfiltered_df[filtered_df\u001B[38;5;241m.\u001B[39mindex\u001B[38;5;241m.\u001B[39misna()]\u001B[38;5;241m.\u001B[39mshape[\u001B[38;5;241m0\u001B[39m]\u001B[38;5;132;01m}\u001B[39;00m\u001B[38;5;124m'\u001B[39m, end\u001B[38;5;241m=\u001B[39m\u001B[38;5;124m'\u001B[39m\u001B[38;5;130;01m\\n\u001B[39;00m\u001B[38;5;130;01m\\n\u001B[39;00m\u001B[38;5;130;01m\\n\u001B[39;00m\u001B[38;5;124m'\u001B[39m)\n\u001B[0;32m      6\u001B[0m filtered_df\u001B[38;5;241m.\u001B[39mreset_index(inplace\u001B[38;5;241m=\u001B[39m\u001B[38;5;28;01mTrue\u001B[39;00m, names\u001B[38;5;241m=\u001B[39m\u001B[38;5;124m\"\u001B[39m\u001B[38;5;124mTime\u001B[39m\u001B[38;5;124m\"\u001B[39m)\n",
      "File \u001B[1;32m~\\Projects\\frequency_deviation\\venv\\lib\\site-packages\\pandas\\core\\frame.py:5141\u001B[0m, in \u001B[0;36mDataFrame.reindex\u001B[1;34m(self, labels, index, columns, axis, method, copy, level, fill_value, limit, tolerance)\u001B[0m\n\u001B[0;32m   5122\u001B[0m \u001B[38;5;129m@doc\u001B[39m(\n\u001B[0;32m   5123\u001B[0m     NDFrame\u001B[38;5;241m.\u001B[39mreindex,\n\u001B[0;32m   5124\u001B[0m     klass\u001B[38;5;241m=\u001B[39m_shared_doc_kwargs[\u001B[38;5;124m\"\u001B[39m\u001B[38;5;124mklass\u001B[39m\u001B[38;5;124m\"\u001B[39m],\n\u001B[1;32m   (...)\u001B[0m\n\u001B[0;32m   5139\u001B[0m     tolerance\u001B[38;5;241m=\u001B[39m\u001B[38;5;28;01mNone\u001B[39;00m,\n\u001B[0;32m   5140\u001B[0m ) \u001B[38;5;241m-\u001B[39m\u001B[38;5;241m>\u001B[39m DataFrame:\n\u001B[1;32m-> 5141\u001B[0m     \u001B[38;5;28;01mreturn\u001B[39;00m \u001B[38;5;28;43msuper\u001B[39;49m\u001B[43m(\u001B[49m\u001B[43m)\u001B[49m\u001B[38;5;241;43m.\u001B[39;49m\u001B[43mreindex\u001B[49m\u001B[43m(\u001B[49m\n\u001B[0;32m   5142\u001B[0m \u001B[43m        \u001B[49m\u001B[43mlabels\u001B[49m\u001B[38;5;241;43m=\u001B[39;49m\u001B[43mlabels\u001B[49m\u001B[43m,\u001B[49m\n\u001B[0;32m   5143\u001B[0m \u001B[43m        \u001B[49m\u001B[43mindex\u001B[49m\u001B[38;5;241;43m=\u001B[39;49m\u001B[43mindex\u001B[49m\u001B[43m,\u001B[49m\n\u001B[0;32m   5144\u001B[0m \u001B[43m        \u001B[49m\u001B[43mcolumns\u001B[49m\u001B[38;5;241;43m=\u001B[39;49m\u001B[43mcolumns\u001B[49m\u001B[43m,\u001B[49m\n\u001B[0;32m   5145\u001B[0m \u001B[43m        \u001B[49m\u001B[43maxis\u001B[49m\u001B[38;5;241;43m=\u001B[39;49m\u001B[43maxis\u001B[49m\u001B[43m,\u001B[49m\n\u001B[0;32m   5146\u001B[0m \u001B[43m        \u001B[49m\u001B[43mmethod\u001B[49m\u001B[38;5;241;43m=\u001B[39;49m\u001B[43mmethod\u001B[49m\u001B[43m,\u001B[49m\n\u001B[0;32m   5147\u001B[0m \u001B[43m        \u001B[49m\u001B[43mcopy\u001B[49m\u001B[38;5;241;43m=\u001B[39;49m\u001B[43mcopy\u001B[49m\u001B[43m,\u001B[49m\n\u001B[0;32m   5148\u001B[0m \u001B[43m        \u001B[49m\u001B[43mlevel\u001B[49m\u001B[38;5;241;43m=\u001B[39;49m\u001B[43mlevel\u001B[49m\u001B[43m,\u001B[49m\n\u001B[0;32m   5149\u001B[0m \u001B[43m        \u001B[49m\u001B[43mfill_value\u001B[49m\u001B[38;5;241;43m=\u001B[39;49m\u001B[43mfill_value\u001B[49m\u001B[43m,\u001B[49m\n\u001B[0;32m   5150\u001B[0m \u001B[43m        \u001B[49m\u001B[43mlimit\u001B[49m\u001B[38;5;241;43m=\u001B[39;49m\u001B[43mlimit\u001B[49m\u001B[43m,\u001B[49m\n\u001B[0;32m   5151\u001B[0m \u001B[43m        \u001B[49m\u001B[43mtolerance\u001B[49m\u001B[38;5;241;43m=\u001B[39;49m\u001B[43mtolerance\u001B[49m\u001B[43m,\u001B[49m\n\u001B[0;32m   5152\u001B[0m \u001B[43m    \u001B[49m\u001B[43m)\u001B[49m\n",
      "File \u001B[1;32m~\\Projects\\frequency_deviation\\venv\\lib\\site-packages\\pandas\\core\\generic.py:5521\u001B[0m, in \u001B[0;36mNDFrame.reindex\u001B[1;34m(self, labels, index, columns, axis, method, copy, level, fill_value, limit, tolerance)\u001B[0m\n\u001B[0;32m   5518\u001B[0m     \u001B[38;5;28;01mreturn\u001B[39;00m \u001B[38;5;28mself\u001B[39m\u001B[38;5;241m.\u001B[39m_reindex_multi(axes, copy, fill_value)\n\u001B[0;32m   5520\u001B[0m \u001B[38;5;66;03m# perform the reindex on the axes\u001B[39;00m\n\u001B[1;32m-> 5521\u001B[0m \u001B[38;5;28;01mreturn\u001B[39;00m \u001B[38;5;28;43mself\u001B[39;49m\u001B[38;5;241;43m.\u001B[39;49m\u001B[43m_reindex_axes\u001B[49m\u001B[43m(\u001B[49m\n\u001B[0;32m   5522\u001B[0m \u001B[43m    \u001B[49m\u001B[43maxes\u001B[49m\u001B[43m,\u001B[49m\u001B[43m \u001B[49m\u001B[43mlevel\u001B[49m\u001B[43m,\u001B[49m\u001B[43m \u001B[49m\u001B[43mlimit\u001B[49m\u001B[43m,\u001B[49m\u001B[43m \u001B[49m\u001B[43mtolerance\u001B[49m\u001B[43m,\u001B[49m\u001B[43m \u001B[49m\u001B[43mmethod\u001B[49m\u001B[43m,\u001B[49m\u001B[43m \u001B[49m\u001B[43mfill_value\u001B[49m\u001B[43m,\u001B[49m\u001B[43m \u001B[49m\u001B[43mcopy\u001B[49m\n\u001B[0;32m   5523\u001B[0m \u001B[43m\u001B[49m\u001B[43m)\u001B[49m\u001B[38;5;241m.\u001B[39m__finalize__(\u001B[38;5;28mself\u001B[39m, method\u001B[38;5;241m=\u001B[39m\u001B[38;5;124m\"\u001B[39m\u001B[38;5;124mreindex\u001B[39m\u001B[38;5;124m\"\u001B[39m)\n",
      "File \u001B[1;32m~\\Projects\\frequency_deviation\\venv\\lib\\site-packages\\pandas\\core\\generic.py:5544\u001B[0m, in \u001B[0;36mNDFrame._reindex_axes\u001B[1;34m(self, axes, level, limit, tolerance, method, fill_value, copy)\u001B[0m\n\u001B[0;32m   5541\u001B[0m     \u001B[38;5;28;01mcontinue\u001B[39;00m\n\u001B[0;32m   5543\u001B[0m ax \u001B[38;5;241m=\u001B[39m \u001B[38;5;28mself\u001B[39m\u001B[38;5;241m.\u001B[39m_get_axis(a)\n\u001B[1;32m-> 5544\u001B[0m new_index, indexer \u001B[38;5;241m=\u001B[39m \u001B[43max\u001B[49m\u001B[38;5;241;43m.\u001B[39;49m\u001B[43mreindex\u001B[49m\u001B[43m(\u001B[49m\n\u001B[0;32m   5545\u001B[0m \u001B[43m    \u001B[49m\u001B[43mlabels\u001B[49m\u001B[43m,\u001B[49m\u001B[43m \u001B[49m\u001B[43mlevel\u001B[49m\u001B[38;5;241;43m=\u001B[39;49m\u001B[43mlevel\u001B[49m\u001B[43m,\u001B[49m\u001B[43m \u001B[49m\u001B[43mlimit\u001B[49m\u001B[38;5;241;43m=\u001B[39;49m\u001B[43mlimit\u001B[49m\u001B[43m,\u001B[49m\u001B[43m \u001B[49m\u001B[43mtolerance\u001B[49m\u001B[38;5;241;43m=\u001B[39;49m\u001B[43mtolerance\u001B[49m\u001B[43m,\u001B[49m\u001B[43m \u001B[49m\u001B[43mmethod\u001B[49m\u001B[38;5;241;43m=\u001B[39;49m\u001B[43mmethod\u001B[49m\n\u001B[0;32m   5546\u001B[0m \u001B[43m\u001B[49m\u001B[43m)\u001B[49m\n\u001B[0;32m   5548\u001B[0m axis \u001B[38;5;241m=\u001B[39m \u001B[38;5;28mself\u001B[39m\u001B[38;5;241m.\u001B[39m_get_axis_number(a)\n\u001B[0;32m   5549\u001B[0m obj \u001B[38;5;241m=\u001B[39m obj\u001B[38;5;241m.\u001B[39m_reindex_with_indexers(\n\u001B[0;32m   5550\u001B[0m     {axis: [new_index, indexer]},\n\u001B[0;32m   5551\u001B[0m     fill_value\u001B[38;5;241m=\u001B[39mfill_value,\n\u001B[0;32m   5552\u001B[0m     copy\u001B[38;5;241m=\u001B[39mcopy,\n\u001B[0;32m   5553\u001B[0m     allow_dups\u001B[38;5;241m=\u001B[39m\u001B[38;5;28;01mFalse\u001B[39;00m,\n\u001B[0;32m   5554\u001B[0m )\n",
      "File \u001B[1;32m~\\Projects\\frequency_deviation\\venv\\lib\\site-packages\\pandas\\core\\indexes\\base.py:4433\u001B[0m, in \u001B[0;36mIndex.reindex\u001B[1;34m(self, target, method, level, limit, tolerance)\u001B[0m\n\u001B[0;32m   4430\u001B[0m     \u001B[38;5;28;01mraise\u001B[39;00m \u001B[38;5;167;01mValueError\u001B[39;00m(\u001B[38;5;124m\"\u001B[39m\u001B[38;5;124mcannot handle a non-unique multi-index!\u001B[39m\u001B[38;5;124m\"\u001B[39m)\n\u001B[0;32m   4431\u001B[0m \u001B[38;5;28;01melif\u001B[39;00m \u001B[38;5;129;01mnot\u001B[39;00m \u001B[38;5;28mself\u001B[39m\u001B[38;5;241m.\u001B[39mis_unique:\n\u001B[0;32m   4432\u001B[0m     \u001B[38;5;66;03m# GH#42568\u001B[39;00m\n\u001B[1;32m-> 4433\u001B[0m     \u001B[38;5;28;01mraise\u001B[39;00m \u001B[38;5;167;01mValueError\u001B[39;00m(\u001B[38;5;124m\"\u001B[39m\u001B[38;5;124mcannot reindex on an axis with duplicate labels\u001B[39m\u001B[38;5;124m\"\u001B[39m)\n\u001B[0;32m   4434\u001B[0m \u001B[38;5;28;01melse\u001B[39;00m:\n\u001B[0;32m   4435\u001B[0m     indexer, _ \u001B[38;5;241m=\u001B[39m \u001B[38;5;28mself\u001B[39m\u001B[38;5;241m.\u001B[39mget_indexer_non_unique(target)\n",
      "\u001B[1;31mValueError\u001B[0m: cannot reindex on an axis with duplicate labels"
     ]
    }
   ],
   "source": [
    "date_range = pd.date_range(start=from_date, end=to_date, freq='S')\n",
    "\n",
    "filtered_df.set_index('Time', inplace=True)\n",
    "filtered_df = filtered_df.reindex(date_range)\n",
    "print(f'Number of missing dates: {filtered_df[filtered_df.index.isna()].shape[0]}', end='\\n\\n\\n')\n",
    "filtered_df.reset_index(inplace=True, names=\"Time\")\n",
    "filtered_df['Value'].fillna(0, inplace=True)\n",
    "print(filtered_df.head(20))"
   ],
   "metadata": {
    "collapsed": false,
    "ExecuteTime": {
     "end_time": "2023-11-08T13:21:12.805256500Z",
     "start_time": "2023-11-08T13:21:10.936000100Z"
    }
   },
   "id": "8419bff775d5037c"
  },
  {
   "cell_type": "markdown",
   "source": [
    "##### Cell below to filter out time in a range"
   ],
   "metadata": {
    "collapsed": false
   },
   "id": "ebf8bfab5e30da34"
  },
  {
   "cell_type": "code",
   "execution_count": null,
   "outputs": [],
   "source": [
    "# start_time = '2021-12-12 06:00:00'\n",
    "# end_time = '2021-12-12 07:00:00'\n",
    "# filtered_data_time = filtered_df[(filtered_df['Time'] >= start_time) & (filtered_df['Time'] <= end_time)]\n",
    "# print(filtered_data_time.head(20))"
   ],
   "metadata": {
    "collapsed": false
   },
   "id": "fee5ef0d1b051272"
  },
  {
   "cell_type": "markdown",
   "source": [
    "##### Save the data to a new csv"
   ],
   "metadata": {
    "collapsed": false
   },
   "id": "2c98e1ab88a812cf"
  },
  {
   "cell_type": "code",
   "execution_count": null,
   "outputs": [],
   "source": [
    "folder_name = 'processed_files'\n",
    "file_name = output_filename\n",
    "\n",
    "if not os.path.exists(folder_name):\n",
    "    os.makedirs(folder_name)\n",
    "\n",
    "file_path = os.path.join(folder_name, file_name)\n",
    "filtered_df.to_csv(file_path, index=False)"
   ],
   "metadata": {
    "collapsed": false
   },
   "id": "92eceeb0d5db51a4"
  },
  {
   "cell_type": "markdown",
   "source": [
    "## Interpritate data"
   ],
   "metadata": {
    "collapsed": false
   },
   "id": "4be3a236df8a1e8e"
  },
  {
   "cell_type": "code",
   "execution_count": null,
   "outputs": [],
   "source": [
    "df = filtered_df\n",
    "df.info()"
   ],
   "metadata": {
    "collapsed": false
   },
   "id": "3fa1ff12b4eb11c5"
  },
  {
   "cell_type": "code",
   "execution_count": null,
   "outputs": [],
   "source": [
    "df[df['Time'] == pd.to_datetime('1970-01-01')]"
   ],
   "metadata": {
    "collapsed": false
   },
   "id": "6d14a0ed6dbee98"
  },
  {
   "cell_type": "code",
   "execution_count": null,
   "outputs": [],
   "source": [
    "df[df['Time'] == pd.to_datetime('0')]"
   ],
   "metadata": {
    "collapsed": false
   },
   "id": "5a967290d37d7292"
  },
  {
   "cell_type": "markdown",
   "source": [
    "### Kanske inte skall vara med här"
   ],
   "metadata": {
    "collapsed": false
   },
   "id": "3a226dc75c88c606"
  },
  {
   "cell_type": "code",
   "execution_count": null,
   "outputs": [],
   "source": [
    "df.loc[~df['Value'].between(49.7,50.5)]"
   ],
   "metadata": {
    "collapsed": false
   },
   "id": "38ab4fb35c84a6b1"
  },
  {
   "cell_type": "code",
   "execution_count": null,
   "outputs": [],
   "source": [
    "df_over = df[df['Value'] > 50.1]\n",
    "df_over.info()"
   ],
   "metadata": {
    "collapsed": false
   },
   "id": "7cb3db4b73414d6"
  },
  {
   "cell_type": "code",
   "execution_count": null,
   "outputs": [],
   "source": [
    "df_under = df[df['Value'] < 49.9]\n",
    "df_under.info()"
   ],
   "metadata": {
    "collapsed": false
   },
   "id": "787035a4c3f61258"
  },
  {
   "cell_type": "markdown",
   "source": [
    "## Refactor data and decrees resolution to seconds instead of milliseconds."
   ],
   "metadata": {
    "collapsed": false
   },
   "id": "88e4ba9cadbc95cc"
  },
  {
   "cell_type": "code",
   "execution_count": null,
   "outputs": [],
   "source": [],
   "metadata": {
    "collapsed": false
   },
   "id": "a5702df75f2e6342"
  },
  {
   "cell_type": "code",
   "execution_count": null,
   "outputs": [],
   "source": [],
   "metadata": {
    "collapsed": false
   },
   "id": "7f1733d01602c567"
  },
  {
   "cell_type": "code",
   "execution_count": null,
   "outputs": [],
   "source": [],
   "metadata": {
    "collapsed": false
   },
   "id": "31c18d7cf6ee30cd"
  }
 ],
 "metadata": {
  "kernelspec": {
   "display_name": "Python 3",
   "language": "python",
   "name": "python3"
  },
  "language_info": {
   "codemirror_mode": {
    "name": "ipython",
    "version": 2
   },
   "file_extension": ".py",
   "mimetype": "text/x-python",
   "name": "python",
   "nbconvert_exporter": "python",
   "pygments_lexer": "ipython2",
   "version": "2.7.6"
  }
 },
 "nbformat": 4,
 "nbformat_minor": 5
}
