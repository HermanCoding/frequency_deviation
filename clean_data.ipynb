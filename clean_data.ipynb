{
 "cells": [
  {
   "cell_type": "markdown",
   "source": [
    "#### Imports"
   ],
   "metadata": {
    "collapsed": false
   },
   "id": "9d793c0a48251aa2"
  },
  {
   "cell_type": "code",
   "execution_count": 1,
   "outputs": [],
   "source": [
    "import os\n",
    "import pandas as pd\n",
    "import date_range_data_extractor"
   ],
   "metadata": {
    "collapsed": false,
    "ExecuteTime": {
     "end_time": "2023-11-08T09:07:32.516354700Z",
     "start_time": "2023-11-08T09:07:32.063465500Z"
    }
   },
   "id": "56605910302ac169"
  },
  {
   "cell_type": "markdown",
   "source": [
    "## Setup environment"
   ],
   "metadata": {
    "collapsed": false
   },
   "id": "e0c7e97707f1c9f4"
  },
  {
   "cell_type": "code",
   "execution_count": 2,
   "outputs": [],
   "source": [
    "#TODO eventuellt sätta up variabler för mappar m.m."
   ],
   "metadata": {
    "collapsed": false,
    "ExecuteTime": {
     "end_time": "2023-11-08T09:07:35.187289900Z",
     "start_time": "2023-11-08T09:07:35.143407600Z"
    }
   },
   "id": "4c881350b100140f"
  },
  {
   "cell_type": "markdown",
   "source": [
    "## Read data"
   ],
   "metadata": {
    "collapsed": false
   },
   "id": "b5c1e8a1ac234188"
  },
  {
   "cell_type": "code",
   "execution_count": 3,
   "id": "initial_id",
   "metadata": {
    "collapsed": true,
    "ExecuteTime": {
     "end_time": "2023-11-08T09:07:40.743726400Z",
     "start_time": "2023-11-08T09:07:39.580462200Z"
    }
   },
   "outputs": [
    {
     "name": "stdout",
     "output_type": "stream",
     "text": [
      "Loading file 2021-12-12.csv...\n"
     ]
    }
   ],
   "source": [
    "# Extract data from csv files.\n",
    "data_extractor = date_range_data_extractor.DateRangeDataExtractor()\n",
    "data_extractor.extract_data(r'./files/', '2021-12-12', '2021-12-12')\n",
    "data = data_extractor.data"
   ]
  },
  {
   "cell_type": "code",
   "execution_count": null,
   "outputs": [],
   "source": [
    "df = pd.concat(data, ignore_index=True, join='inner')\n",
    "print(df.info(), end='\\n\\n')\n",
    "print(f'Is not a number: \\n{df.isna().sum()}', end='\\n\\n')\n",
    "print(f'Is a NULL: \\n{df.isnull().sum()}', end='\\n\\n\\n')\n",
    "print(f'Duplicates: \\n{df[df.duplicated()]}', end='\\n\\n')"
   ],
   "metadata": {
    "collapsed": false
   },
   "id": "b4b0b868419679a0"
  },
  {
   "cell_type": "markdown",
   "source": [
    "## Scale data\n",
    "Change the Time value to datetime format:"
   ],
   "metadata": {
    "collapsed": false
   },
   "id": "4fcf67165c864fa1"
  },
  {
   "cell_type": "code",
   "execution_count": null,
   "outputs": [],
   "source": [
    "df['Time'] = pd.to_datetime(df['Time'])\n",
    "print(df.info(20))"
   ],
   "metadata": {
    "collapsed": false
   },
   "id": "ce7580f5063d2ef8"
  },
  {
   "cell_type": "markdown",
   "source": [
    "#### Filter the data to seconds\n",
    "Resetting index and clearing dataframe df from memory"
   ],
   "metadata": {
    "collapsed": false
   },
   "id": "7d0adf43c1ececc8"
  },
  {
   "cell_type": "code",
   "execution_count": null,
   "outputs": [],
   "source": [
    "filtered_df = df[df['Time'].dt.microsecond == 0]\n",
    "del df\n",
    "filtered_df.reset_index(drop=True, inplace=True)\n",
    "print(filtered_df.head(20))"
   ],
   "metadata": {
    "collapsed": false
   },
   "id": "a0c069726cfe43e6"
  },
  {
   "cell_type": "markdown",
   "source": [
    "##### Cell below to filter out time in a range"
   ],
   "metadata": {
    "collapsed": false
   },
   "id": "ebf8bfab5e30da34"
  },
  {
   "cell_type": "code",
   "execution_count": null,
   "outputs": [],
   "source": [
    "# start_time = '2021-12-12 06:00:00'\n",
    "# end_time = '2021-12-12 07:00:00'\n",
    "# filtered_data_time = filtered_df[(filtered_df['Time'] >= start_time) & (filtered_df['Time'] <= end_time)]\n",
    "# print(filtered_data_time.head(20))"
   ],
   "metadata": {
    "collapsed": false
   },
   "id": "fee5ef0d1b051272"
  },
  {
   "cell_type": "markdown",
   "source": [
    "##### Save the data to a new csv"
   ],
   "metadata": {
    "collapsed": false
   },
   "id": "2c98e1ab88a812cf"
  },
  {
   "cell_type": "code",
   "execution_count": null,
   "outputs": [],
   "source": [
    "# folder_name = 'processed_files'\n",
    "# file_name = '2021-12-12-0600-0700_seconds.csv'\n",
    "\n",
    "# if not os.path.exists(folder_name):\n",
    "#     os.makedirs(folder_name)\n",
    "\n",
    "# file_path = os.path.join(folder_name, file_name)\n",
    "# filtered_data_time.to_csv(file_path, index=False)"
   ],
   "metadata": {
    "collapsed": false
   },
   "id": "92eceeb0d5db51a4"
  },
  {
   "cell_type": "markdown",
   "source": [
    "## Interpritate data"
   ],
   "metadata": {
    "collapsed": false
   },
   "id": "4be3a236df8a1e8e"
  },
  {
   "cell_type": "code",
   "execution_count": null,
   "outputs": [],
   "source": [
    "df = filtered_df\n",
    "df.info()"
   ],
   "metadata": {
    "collapsed": false
   },
   "id": "3fa1ff12b4eb11c5"
  },
  {
   "cell_type": "code",
   "execution_count": null,
   "outputs": [],
   "source": [
    "df[df['Time'] == pd.to_datetime('1970-01-01')]"
   ],
   "metadata": {
    "collapsed": false
   },
   "id": "6d14a0ed6dbee98"
  },
  {
   "cell_type": "code",
   "execution_count": null,
   "outputs": [],
   "source": [
    "df[df['Time'] == pd.to_datetime('0')]"
   ],
   "metadata": {
    "collapsed": false
   },
   "id": "5a967290d37d7292"
  },
  {
   "cell_type": "markdown",
   "source": [
    "### Kanske inte skall vara med här"
   ],
   "metadata": {
    "collapsed": false
   },
   "id": "3a226dc75c88c606"
  },
  {
   "cell_type": "code",
   "execution_count": null,
   "outputs": [],
   "source": [
    "df.loc[~df['Value'].between(49.7,50.5)]"
   ],
   "metadata": {
    "collapsed": false
   },
   "id": "38ab4fb35c84a6b1"
  },
  {
   "cell_type": "code",
   "execution_count": null,
   "outputs": [],
   "source": [
    "df_over = df[df['Value'] > 50.1]\n",
    "df_over.info()"
   ],
   "metadata": {
    "collapsed": false
   },
   "id": "7cb3db4b73414d6"
  },
  {
   "cell_type": "code",
   "execution_count": null,
   "outputs": [],
   "source": [
    "df_under = df[df['Value'] < 49.9]\n",
    "df_under.info()"
   ],
   "metadata": {
    "collapsed": false
   },
   "id": "787035a4c3f61258"
  },
  {
   "cell_type": "markdown",
   "source": [
    "## Refactor data and decrees resolution to seconds instead of milliseconds."
   ],
   "metadata": {
    "collapsed": false
   },
   "id": "88e4ba9cadbc95cc"
  },
  {
   "cell_type": "code",
   "execution_count": null,
   "outputs": [],
   "source": [],
   "metadata": {
    "collapsed": false
   },
   "id": "a5702df75f2e6342"
  },
  {
   "cell_type": "code",
   "execution_count": null,
   "outputs": [],
   "source": [],
   "metadata": {
    "collapsed": false
   },
   "id": "7f1733d01602c567"
  },
  {
   "cell_type": "code",
   "execution_count": null,
   "outputs": [],
   "source": [],
   "metadata": {
    "collapsed": false
   },
   "id": "31c18d7cf6ee30cd"
  }
 ],
 "metadata": {
  "kernelspec": {
   "display_name": "Python 3",
   "language": "python",
   "name": "python3"
  },
  "language_info": {
   "codemirror_mode": {
    "name": "ipython",
    "version": 2
   },
   "file_extension": ".py",
   "mimetype": "text/x-python",
   "name": "python",
   "nbconvert_exporter": "python",
   "pygments_lexer": "ipython2",
   "version": "2.7.6"
  }
 },
 "nbformat": 4,
 "nbformat_minor": 5
}
